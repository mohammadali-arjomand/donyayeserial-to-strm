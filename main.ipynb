{
 "cells": [
  {
   "cell_type": "code",
   "execution_count": 1,
   "id": "5c267430",
   "metadata": {},
   "outputs": [],
   "source": [
    "# Requirements\n",
    "\n",
    "import requests as req\n",
    "from bs4 import BeautifulSoup as bs\n",
    "import re\n",
    "import time\n",
    "import os\n",
    "from urllib.parse import urljoin"
   ]
  },
  {
   "cell_type": "code",
   "execution_count": 2,
   "id": "a009977b",
   "metadata": {},
   "outputs": [
    {
     "name": "stdout",
     "output_type": "stream",
     "text": [
      "Enter DonyayeSerial URL (Default is Rick and Morty): \n",
      "Enter directory name [rick-and-morty]: \n",
      "Enter options by lowercase english letters and numbers [softsub 720pbluray 720webdl]: \n",
      "Enter seasons like example [s01 s02 s03 s04 s05 s06]: s01\n"
     ]
    }
   ],
   "source": [
    "# Inputs\n",
    "\n",
    "url = input(\"Enter DonyayeSerial URL (Default is Rick and Morty): \")\n",
    "dir_name = input(\"Enter directory name [rick-and-morty]: \")\n",
    "options = input(\"Enter options by lowercase english letters and numbers [softsub 720pbluray 720webdl]: \").split(\" \")\n",
    "seasons = input(\"Enter seasons like example [s01 s02 s03 s04 s05 s06]: \").split(\" \")\n",
    "\n",
    "if url == \"\":\n",
    "    url = \"https://dls5.iran-gamecenter-host.com/DonyayeSerial/series/Rick.and.Morty/\"\n",
    "if dir_name == \"\":\n",
    "    dir_name = \"rick-and-morty\"\n",
    "if options == [\"\"]:\n",
    "    options = [\"softsub\", \"720pbluray\", \"720pwebdl\"]\n",
    "if seasons == [\"\"]:\n",
    "    seasons = [\"s01\", \"s02\", \"s03\", \"s04\", \"s05\", \"s06\"]"
   ]
  },
  {
   "cell_type": "code",
   "execution_count": 3,
   "id": "28264f62",
   "metadata": {},
   "outputs": [],
   "source": [
    "# Functions\n",
    "\n",
    "def read_urls(url):\n",
    "    try:\n",
    "        r = req.get(url)\n",
    "    except:\n",
    "        print(\"[X] Connection failed\\nFinish.\")\n",
    "        exit()\n",
    "    soup = bs(r.text, \"html.parser\")\n",
    "\n",
    "    file_items = soup.select(\"td.n > a\")\n",
    "\n",
    "    episodes_urls = []\n",
    "    for item in file_items:\n",
    "        href = item.get(\"href\")\n",
    "        if href != \"../\":\n",
    "            episodes_urls.append(href)\n",
    "\n",
    "    return episodes_urls"
   ]
  },
  {
   "cell_type": "code",
   "execution_count": 4,
   "id": "13d12071",
   "metadata": {},
   "outputs": [],
   "source": [
    "episodes = []\n",
    "\n",
    "def go_recursive(url, options, seasons):\n",
    "    print(f\"[E] {len(episodes)} episode(s) found\")\n",
    "    #print(f\"[S] Looking for {' '.join(seasons)}\")\n",
    "    print(f\"[U] Analyzing {url}\")\n",
    "    links = read_urls(url)\n",
    "    if len(links) == 0:\n",
    "        return\n",
    "    if links[0].endswith((\".mkv\", \".mp4\")):\n",
    "        for link in links:\n",
    "            episodes.append(url + link)\n",
    "        if len(seasons) > 0:\n",
    "            go_recursive(urljoin(url, \"../../\"), options, seasons)\n",
    "        else:\n",
    "            return\n",
    "    found = False\n",
    "    for link in links:\n",
    "        clean_link = link.lower()\n",
    "        clean_link = re.sub(r'[^a-z0-9]', '', clean_link)\n",
    "        if clean_link in (options + seasons):\n",
    "            url += link\n",
    "            if clean_link in seasons:\n",
    "                seasons.remove(clean_link)\n",
    "            found = True\n",
    "            break\n",
    "    if not found:\n",
    "        url = urljoin(url, \"../../\")\n",
    "    go_recursive(url, options, seasons)"
   ]
  },
  {
   "cell_type": "code",
   "execution_count": 5,
   "id": "4a73dd8f",
   "metadata": {
    "scrolled": false
   },
   "outputs": [
    {
     "name": "stdout",
     "output_type": "stream",
     "text": [
      "[ ] Starting ...\n",
      "[E] 0 episode(s) found\n",
      "[U] Analyzing https://dls5.iran-gamecenter-host.com/DonyayeSerial/series/Rick.and.Morty/\n",
      "[E] 0 episode(s) found\n",
      "[U] Analyzing https://dls5.iran-gamecenter-host.com/DonyayeSerial/series/Rick.and.Morty/Soft.Sub/\n",
      "[E] 0 episode(s) found\n",
      "[U] Analyzing https://dls5.iran-gamecenter-host.com/DonyayeSerial/series/Rick.and.Morty/Soft.Sub/S01/\n",
      "[E] 0 episode(s) found\n",
      "[U] Analyzing https://dls5.iran-gamecenter-host.com/DonyayeSerial/series/Rick.and.Morty/Soft.Sub/S01/720p.BluRay/\n",
      "\n",
      "[ ] Creating files ...\n",
      "[F] rick-and-morty/Rick.and.Morty.S01E01.720p.SoftSub.DonyayeSerial.mkv.strm created\n",
      "[F] rick-and-morty/Rick.and.Morty.S01E02.720p.SoftSub.DonyayeSerial.mkv.strm created\n",
      "[F] rick-and-morty/Rick.and.Morty.S01E03.720p.SoftSub.DonyayeSerial.mkv.strm created\n",
      "[F] rick-and-morty/Rick.and.Morty.S01E04.720p.SoftSub.DonyayeSerial.mkv.strm created\n",
      "[F] rick-and-morty/Rick.and.Morty.S01E05.720p.SoftSub.DonyayeSerial.mkv.strm created\n",
      "[F] rick-and-morty/Rick.and.Morty.S01E06.720p.SoftSub.DonyayeSerial.mkv.strm created\n",
      "[F] rick-and-morty/Rick.and.Morty.S01E07.720p.SoftSub.DonyayeSerial.mkv.strm created\n",
      "[F] rick-and-morty/Rick.and.Morty.S01E08.720p.SoftSub.DonyayeSerial.mkv.strm created\n",
      "[F] rick-and-morty/Rick.and.Morty.S01E09.720p.SoftSub.DonyayeSerial.mkv.strm created\n",
      "[F] rick-and-morty/Rick.and.Morty.S01E10.720p.SoftSub.DonyayeSerial.mkv.strm created\n",
      "[F] rick-and-morty/Rick.and.Morty.S01E11.720p.SoftSub.DonyayeSerial.mkv.strm created\n",
      "\n",
      "[ ] 11 episode(s) found\n",
      "[ ] The files were created at rick-and-morty/\n",
      "[ ] Finished in 2.498 seconds.\n"
     ]
    }
   ],
   "source": [
    "# Looking for URLs and creating the file\n",
    "print(\"[ ] Starting ...\")\n",
    "\n",
    "if os.path.isdir(dir_name):\n",
    "    print(f\"[X] {dir_name} exists. Please use another directory name.\\nFinish.\")\n",
    "    exit()\n",
    "t1 = time.time()\n",
    "go_recursive(url, options, seasons)\n",
    "\n",
    "print(\"\\n[ ] Creating files ...\")\n",
    "\n",
    "if not dir_name.endswith(\"/\"):\n",
    "    dir_name += \"/\"\n",
    "\n",
    "os.mkdir(dir_name)\n",
    "for e in episodes:\n",
    "    file_path = dir_name + e.split(\"/\")[-1] + \".strm\"\n",
    "    with open(file_path, \"w\") as f:\n",
    "        f.write(e)\n",
    "    print(f\"[F] Created {file_path}\")\n",
    "t2 = time.time()\n",
    "print(f\"\"\"\n",
    "[ ] {len(episodes)} episode(s) found\n",
    "[ ] The files were created at {dir_name}\n",
    "[ ] Finished in {round(t2 - t1, 3)} seconds.\"\"\")"
   ]
  },
  {
   "cell_type": "code",
   "execution_count": null,
   "id": "d1544378",
   "metadata": {},
   "outputs": [],
   "source": []
  }
 ],
 "metadata": {
  "kernelspec": {
   "display_name": "Python 3 (ipykernel)",
   "language": "python",
   "name": "python3"
  },
  "language_info": {
   "codemirror_mode": {
    "name": "ipython",
    "version": 3
   },
   "file_extension": ".py",
   "mimetype": "text/x-python",
   "name": "python",
   "nbconvert_exporter": "python",
   "pygments_lexer": "ipython3",
   "version": "3.11.2"
  }
 },
 "nbformat": 4,
 "nbformat_minor": 5
}
